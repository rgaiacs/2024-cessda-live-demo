{
 "cells": [
  {
   "cell_type": "markdown",
   "id": "6607dbe7-fb62-486b-9232-d225e842e421",
   "metadata": {},
   "source": [
    "# Live Demo"
   ]
  },
  {
   "cell_type": "code",
   "execution_count": 1,
   "id": "2bca98df-6df8-415c-944e-a7d14099ada5",
   "metadata": {},
   "outputs": [],
   "source": [
    "import requests"
   ]
  },
  {
   "cell_type": "code",
   "execution_count": 2,
   "id": "f981c733-af30-4fe5-8bd0-47db6d3e3a13",
   "metadata": {},
   "outputs": [
    {
     "ename": "ModuleNotFoundError",
     "evalue": "No module named 'seaborn'",
     "output_type": "error",
     "traceback": [
      "\u001b[0;31m---------------------------------------------------------------------------\u001b[0m",
      "\u001b[0;31mModuleNotFoundError\u001b[0m                       Traceback (most recent call last)",
      "Cell \u001b[0;32mIn[2], line 1\u001b[0m\n\u001b[0;32m----> 1\u001b[0m \u001b[38;5;28;01mimport\u001b[39;00m \u001b[38;5;21;01mseaborn\u001b[39;00m\n",
      "\u001b[0;31mModuleNotFoundError\u001b[0m: No module named 'seaborn'"
     ]
    }
   ],
   "source": [
    "import seaborn"
   ]
  },
  {
   "cell_type": "code",
   "execution_count": 3,
   "id": "3e4e8b77-0298-4cf0-9303-b5cf7064c6f4",
   "metadata": {},
   "outputs": [],
   "source": [
    "url = \"https://raw.githubusercontent.com/rgaiacs/2024-06-cessda-workshop-mybinder/main/data/croatia-life-expectancy.json\""
   ]
  },
  {
   "cell_type": "code",
   "execution_count": 4,
   "id": "7df3e9b8-ebf2-4450-be90-3cad76b2ca75",
   "metadata": {},
   "outputs": [
    {
     "data": {
      "text/plain": [
       "'https://raw.githubusercontent.com/rgaiacs/2024-06-cessda-workshop-mybinder/main/data/croatia-life-expectancy.json'"
      ]
     },
     "execution_count": 4,
     "metadata": {},
     "output_type": "execute_result"
    }
   ],
   "source": [
    "url"
   ]
  },
  {
   "cell_type": "code",
   "execution_count": 5,
   "id": "af1d56ad-2cec-4aa5-9c69-a1e9682954df",
   "metadata": {},
   "outputs": [],
   "source": [
    "response = requests.get(url)"
   ]
  },
  {
   "cell_type": "code",
   "execution_count": 6,
   "id": "4478eab9-ddb8-460d-b590-c6c5cf3bd199",
   "metadata": {},
   "outputs": [
    {
     "data": {
      "text/plain": [
       "<Response [200]>"
      ]
     },
     "execution_count": 6,
     "metadata": {},
     "output_type": "execute_result"
    }
   ],
   "source": [
    "response"
   ]
  },
  {
   "cell_type": "code",
   "execution_count": 7,
   "id": "e604c917-1e19-43e1-9c0b-41dde1f8f333",
   "metadata": {},
   "outputs": [],
   "source": [
    "data = response.json()"
   ]
  },
  {
   "cell_type": "code",
   "execution_count": 8,
   "id": "79dfe1ca-eb87-4249-bde3-1225dabf04cd",
   "metadata": {},
   "outputs": [
    {
     "data": {
      "text/plain": [
       "{'years': [1999,\n",
       "  2000,\n",
       "  2001,\n",
       "  2002,\n",
       "  2003,\n",
       "  2004,\n",
       "  2005,\n",
       "  2006,\n",
       "  2007,\n",
       "  2008,\n",
       "  2009,\n",
       "  2010,\n",
       "  2011,\n",
       "  2012,\n",
       "  2013,\n",
       "  2014,\n",
       "  2015,\n",
       "  2016],\n",
       " 'life_expectancy': [72.64195,\n",
       "  72.8078,\n",
       "  74.51293,\n",
       "  74.71732,\n",
       "  74.6139,\n",
       "  75.52024,\n",
       "  75.24463,\n",
       "  75.83683,\n",
       "  75.70561,\n",
       "  75.9122,\n",
       "  76.16829,\n",
       "  76.47561,\n",
       "  76.77561,\n",
       "  76.92439,\n",
       "  77.12683,\n",
       "  77.47805,\n",
       "  77.27561,\n",
       "  78.02195]}"
      ]
     },
     "execution_count": 8,
     "metadata": {},
     "output_type": "execute_result"
    }
   ],
   "source": [
    "data"
   ]
  },
  {
   "cell_type": "code",
   "execution_count": 9,
   "id": "7fd0ef43-17da-4dc6-9f6f-5ab44243e7d7",
   "metadata": {},
   "outputs": [
    {
     "data": {
      "text/plain": [
       "[1999,\n",
       " 2000,\n",
       " 2001,\n",
       " 2002,\n",
       " 2003,\n",
       " 2004,\n",
       " 2005,\n",
       " 2006,\n",
       " 2007,\n",
       " 2008,\n",
       " 2009,\n",
       " 2010,\n",
       " 2011,\n",
       " 2012,\n",
       " 2013,\n",
       " 2014,\n",
       " 2015,\n",
       " 2016]"
      ]
     },
     "execution_count": 9,
     "metadata": {},
     "output_type": "execute_result"
    }
   ],
   "source": [
    "data[\"years\"]"
   ]
  },
  {
   "cell_type": "code",
   "execution_count": 10,
   "id": "183a2cf6-8b92-4fcb-b7a8-df8e0440b69f",
   "metadata": {},
   "outputs": [
    {
     "data": {
      "text/plain": [
       "[72.64195,\n",
       " 72.8078,\n",
       " 74.51293,\n",
       " 74.71732,\n",
       " 74.6139,\n",
       " 75.52024,\n",
       " 75.24463,\n",
       " 75.83683,\n",
       " 75.70561,\n",
       " 75.9122,\n",
       " 76.16829,\n",
       " 76.47561,\n",
       " 76.77561,\n",
       " 76.92439,\n",
       " 77.12683,\n",
       " 77.47805,\n",
       " 77.27561,\n",
       " 78.02195]"
      ]
     },
     "execution_count": 10,
     "metadata": {},
     "output_type": "execute_result"
    }
   ],
   "source": [
    "data[\"life_expectancy\"]"
   ]
  },
  {
   "cell_type": "code",
   "execution_count": 12,
   "id": "025c28aa-17e8-4f90-8898-9ddc63615c18",
   "metadata": {},
   "outputs": [],
   "source": [
    "import matplotlib.pyplot as plt"
   ]
  },
  {
   "cell_type": "code",
   "execution_count": 13,
   "id": "1089492f-54dd-4094-87d8-0e1e0f4df1f1",
   "metadata": {},
   "outputs": [
    {
     "data": {
      "text/plain": [
       "[<matplotlib.lines.Line2D at 0x7f9943a2f9d0>]"
      ]
     },
     "execution_count": 13,
     "metadata": {},
     "output_type": "execute_result"
    },
    {
     "data": {
      "image/png": "[encoded data removed]",
      "text/plain": [
       "<Figure size 640x480 with 1 Axes>"
      ]
     },
     "metadata": {},
     "output_type": "display_data"
    }
   ],
   "source": [
    "plt.plot(data[\"years\"], data[\"life_expectancy\"])"
   ]
  },
  {
   "cell_type": "code",
   "execution_count": null,
   "id": "32028581-a0fe-4ed1-9937-d95c61b497c9",
   "metadata": {},
   "outputs": [],
   "source": []
  }
 ],
 "metadata": {
  "kernelspec": {
   "display_name": "Python 3 (ipykernel)",
   "language": "python",
   "name": "python3"
  },
  "language_info": {
   "codemirror_mode": {
    "name": "ipython",
    "version": 3
   },
   "file_extension": ".py",
   "mimetype": "text/x-python",
   "name": "python",
   "nbconvert_exporter": "python",
   "pygments_lexer": "ipython3",
   "version": "3.10.14"
  }
 },
 "nbformat": 4,
 "nbformat_minor": 5
}
